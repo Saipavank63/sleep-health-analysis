{
 "cells": [
  {
   "cell_type": "markdown",
   "id": "801bd9fd",
   "metadata": {},
   "source": [
    "# Sleep Health Data Engineering Project\n",
    "\n",
    "This notebook demonstrates a complete data engineering pipeline for sleep health analysis, including:\n",
    "\n",
    "1. Data Generation and Loading\n",
    "2. Data Cleaning and Transformation\n",
    "3. Feature Engineering\n",
    "4. Data Quality Checks\n",
    "5. Analysis and Visualization\n",
    "6. Machine Learning Insights"
   ]
  },
  {
   "cell_type": "markdown",
   "id": "9f00ec49",
   "metadata": {},
   "source": [
    "## 1. Setup and Import Libraries\n",
    "\n",
    "First, we'll import all the necessary libraries for our analysis:"
   ]
  },
  {
   "cell_type": "code",
   "execution_count": 1,
   "id": "70d7f302",
   "metadata": {},
   "outputs": [],
   "source": [
    "# Data processing\n",
    "import pandas as pd\n",
    "import numpy as np\n",
    "from datetime import datetime, timedelta\n",
    "\n",
    "# Data visualization\n",
    "import matplotlib.pyplot as plt\n",
    "import seaborn as sns\n",
    "import plotly.express as px\n",
    "import plotly.graph_objects as go\n",
    "\n",
    "# Machine learning\n",
    "from sklearn.preprocessing import StandardScaler\n",
    "from sklearn.model_selection import train_test_split\n",
    "from sklearn.ensemble import RandomForestRegressor\n",
    "\n",
    "# Database\n",
    "from sqlalchemy import create_engine\n",
    "\n",
    "# Set display options\n",
    "pd.set_option('display.max_columns', None)\n",
    "\n",
    "# Suppress warnings\n",
    "import warnings\n",
    "warnings.filterwarnings('ignore')"
   ]
  },
  {
   "cell_type": "markdown",
   "id": "988310ba",
   "metadata": {},
   "source": [
    "## 2. Generate Sleep Health Data\n",
    "\n",
    "We'll create synthetic sleep health data that includes:\n",
    "- Sleep duration\n",
    "- Sleep quality score\n",
    "- Bedtime and wake-up time\n",
    "- Physical activity level\n",
    "- Stress level\n",
    "- Heart rate during sleep\n",
    "- Sleep stages (Deep, REM, Light)"
   ]
  },
  {
   "cell_type": "code",
   "execution_count": 2,
   "id": "04d4feda",
   "metadata": {},
   "outputs": [
    {
     "name": "stdout",
     "output_type": "stream",
     "text": [
      "Generated sleep health data shape: (365, 11)\n"
     ]
    },
    {
     "data": {
      "text/html": [
       "<div>\n",
       "<style scoped>\n",
       "    .dataframe tbody tr th:only-of-type {\n",
       "        vertical-align: middle;\n",
       "    }\n",
       "\n",
       "    .dataframe tbody tr th {\n",
       "        vertical-align: top;\n",
       "    }\n",
       "\n",
       "    .dataframe thead th {\n",
       "        text-align: right;\n",
       "    }\n",
       "</style>\n",
       "<table border=\"1\" class=\"dataframe\">\n",
       "  <thead>\n",
       "    <tr style=\"text-align: right;\">\n",
       "      <th></th>\n",
       "      <th>date</th>\n",
       "      <th>sleep_duration</th>\n",
       "      <th>quality_score</th>\n",
       "      <th>bedtime</th>\n",
       "      <th>activity_level</th>\n",
       "      <th>stress_level</th>\n",
       "      <th>heart_rate</th>\n",
       "      <th>deep_sleep_pct</th>\n",
       "      <th>rem_sleep_pct</th>\n",
       "      <th>wake_time</th>\n",
       "      <th>light_sleep_pct</th>\n",
       "    </tr>\n",
       "  </thead>\n",
       "  <tbody>\n",
       "    <tr>\n",
       "      <th>0</th>\n",
       "      <td>2025-01-01</td>\n",
       "      <td>8.245071</td>\n",
       "      <td>68.981693</td>\n",
       "      <td>23.293768</td>\n",
       "      <td>43.385668</td>\n",
       "      <td>4.723088</td>\n",
       "      <td>67.209703</td>\n",
       "      <td>12.009378</td>\n",
       "      <td>27.673145</td>\n",
       "      <td>7.538839</td>\n",
       "      <td>60.317476</td>\n",
       "    </tr>\n",
       "    <tr>\n",
       "      <th>1</th>\n",
       "      <td>2025-01-02</td>\n",
       "      <td>7.292604</td>\n",
       "      <td>78.361387</td>\n",
       "      <td>21.532441</td>\n",
       "      <td>46.572704</td>\n",
       "      <td>2.551404</td>\n",
       "      <td>59.548005</td>\n",
       "      <td>22.310863</td>\n",
       "      <td>11.821261</td>\n",
       "      <td>4.825044</td>\n",
       "      <td>65.867875</td>\n",
       "    </tr>\n",
       "    <tr>\n",
       "      <th>2</th>\n",
       "      <td>2025-01-03</td>\n",
       "      <td>8.471533</td>\n",
       "      <td>75.188886</td>\n",
       "      <td>23.612379</td>\n",
       "      <td>5.035986</td>\n",
       "      <td>4.581953</td>\n",
       "      <td>72.054662</td>\n",
       "      <td>30.121548</td>\n",
       "      <td>25.016878</td>\n",
       "      <td>8.083912</td>\n",
       "      <td>44.861574</td>\n",
       "    </tr>\n",
       "    <tr>\n",
       "      <th>3</th>\n",
       "      <td>2025-01-04</td>\n",
       "      <td>9.784545</td>\n",
       "      <td>76.465141</td>\n",
       "      <td>20.446125</td>\n",
       "      <td>63.326553</td>\n",
       "      <td>3.298959</td>\n",
       "      <td>64.507059</td>\n",
       "      <td>13.184130</td>\n",
       "      <td>26.639106</td>\n",
       "      <td>6.230669</td>\n",
       "      <td>60.176764</td>\n",
       "    </tr>\n",
       "    <tr>\n",
       "      <th>4</th>\n",
       "      <td>2025-01-05</td>\n",
       "      <td>7.148770</td>\n",
       "      <td>63.404853</td>\n",
       "      <td>0.543733</td>\n",
       "      <td>51.929770</td>\n",
       "      <td>3.838953</td>\n",
       "      <td>65.094248</td>\n",
       "      <td>20.948531</td>\n",
       "      <td>29.621351</td>\n",
       "      <td>7.692503</td>\n",
       "      <td>49.430118</td>\n",
       "    </tr>\n",
       "  </tbody>\n",
       "</table>\n",
       "</div>"
      ],
      "text/plain": [
       "        date  sleep_duration  quality_score    bedtime  activity_level  \\\n",
       "0 2025-01-01        8.245071      68.981693  23.293768       43.385668   \n",
       "1 2025-01-02        7.292604      78.361387  21.532441       46.572704   \n",
       "2 2025-01-03        8.471533      75.188886  23.612379        5.035986   \n",
       "3 2025-01-04        9.784545      76.465141  20.446125       63.326553   \n",
       "4 2025-01-05        7.148770      63.404853   0.543733       51.929770   \n",
       "\n",
       "   stress_level  heart_rate  deep_sleep_pct  rem_sleep_pct  wake_time  \\\n",
       "0      4.723088   67.209703       12.009378      27.673145   7.538839   \n",
       "1      2.551404   59.548005       22.310863      11.821261   4.825044   \n",
       "2      4.581953   72.054662       30.121548      25.016878   8.083912   \n",
       "3      3.298959   64.507059       13.184130      26.639106   6.230669   \n",
       "4      3.838953   65.094248       20.948531      29.621351   7.692503   \n",
       "\n",
       "   light_sleep_pct  \n",
       "0        60.317476  \n",
       "1        65.867875  \n",
       "2        44.861574  \n",
       "3        60.176764  \n",
       "4        49.430118  "
      ]
     },
     "execution_count": 2,
     "metadata": {},
     "output_type": "execute_result"
    }
   ],
   "source": [
    "def generate_sleep_data(n_samples=1000):\n",
    "    \"\"\"Generate synthetic sleep health data.\"\"\"\n",
    "    np.random.seed(42)\n",
    "    \n",
    "    # Generate dates\n",
    "    start_date = datetime(2025, 1, 1)\n",
    "    dates = [start_date + timedelta(days=x) for x in range(n_samples)]\n",
    "    \n",
    "    # Generate sleep metrics\n",
    "    data = {\n",
    "        'date': dates,\n",
    "        'sleep_duration': np.random.normal(7.5, 1.5, n_samples),  # hours\n",
    "        'quality_score': np.random.normal(75, 15, n_samples),     # 0-100\n",
    "        'bedtime': np.random.normal(23, 1.5, n_samples),         # hour of day\n",
    "        'activity_level': np.random.normal(45, 20, n_samples),   # minutes\n",
    "        'stress_level': np.random.normal(5, 2, n_samples),       # 0-10\n",
    "        'heart_rate': np.random.normal(65, 5, n_samples),        # bpm\n",
    "        'deep_sleep_pct': np.random.normal(20, 5, n_samples),    # percentage\n",
    "        'rem_sleep_pct': np.random.normal(25, 5, n_samples),     # percentage\n",
    "    }\n",
    "    \n",
    "    df = pd.DataFrame(data)\n",
    "    \n",
    "    # Apply constraints\n",
    "    df['sleep_duration'] = np.clip(df['sleep_duration'], 4, 12)\n",
    "    df['quality_score'] = np.clip(df['quality_score'], 0, 100)\n",
    "    df['bedtime'] = np.mod(df['bedtime'], 24)\n",
    "    df['activity_level'] = np.clip(df['activity_level'], 0, 120)\n",
    "    df['stress_level'] = np.clip(df['stress_level'], 0, 10)\n",
    "    df['heart_rate'] = np.clip(df['heart_rate'], 45, 85)\n",
    "    \n",
    "    # Calculate wake time\n",
    "    df['wake_time'] = np.mod(df['bedtime'] + df['sleep_duration'], 24)\n",
    "    \n",
    "    # Calculate light sleep percentage\n",
    "    df['light_sleep_pct'] = 100 - df['deep_sleep_pct'] - df['rem_sleep_pct']\n",
    "    \n",
    "    return df\n",
    "\n",
    "# Generate the data\n",
    "sleep_data = generate_sleep_data(365)  # One year of data\n",
    "print(\"Generated sleep health data shape:\", sleep_data.shape)\n",
    "sleep_data.head()"
   ]
  },
  {
   "cell_type": "markdown",
   "id": "983a0c98",
   "metadata": {},
   "source": [
    "## 3. Data Transformation and Quality Checks\n",
    "\n",
    "Let's clean the data, engineer new features, and perform quality checks:"
   ]
  },
  {
   "cell_type": "code",
   "execution_count": 3,
   "id": "ac4f663e",
   "metadata": {},
   "outputs": [
    {
     "name": "stdout",
     "output_type": "stream",
     "text": [
      "\n",
      "Data Quality Report:\n",
      "\n",
      "Row Count: 365\n",
      "\n",
      "Missing Values:\n",
      "bedtime_shift: 1\n",
      "\n",
      "Value Ranges:\n",
      "              column    min     max   mean\n",
      "0     sleep_duration   4.00   12.00   7.52\n",
      "1      quality_score  34.55  100.00  74.13\n",
      "2            bedtime   0.01   23.99  16.68\n",
      "3     activity_level   0.00   97.03  46.72\n",
      "4       stress_level   0.00   10.00   5.07\n",
      "5         heart_rate  49.90   80.69  64.98\n",
      "6     deep_sleep_pct   6.98   35.55  20.14\n",
      "7      rem_sleep_pct  11.26   44.63  25.08\n",
      "8          wake_time   0.88   13.83   6.71\n",
      "9    light_sleep_pct  33.00   72.99  54.78\n",
      "10       day_of_week   0.00    6.00   3.00\n",
      "11  sleep_efficiency   0.20    0.49   0.33\n",
      "12     bedtime_shift   0.00   23.85   9.78\n",
      "13        sleep_debt  -4.00    4.00   0.48\n"
     ]
    }
   ],
   "source": [
    "# Data cleaning and feature engineering\n",
    "def transform_sleep_data(df):\n",
    "    \"\"\"Clean and transform sleep data.\"\"\"\n",
    "    df = df.copy()\n",
    "    \n",
    "    # Add day of week\n",
    "    df['day_of_week'] = df['date'].dt.dayofweek\n",
    "    df['day_name'] = df['date'].dt.day_name()\n",
    "    \n",
    "    # Calculate sleep efficiency\n",
    "    df['sleep_efficiency'] = (df['deep_sleep_pct'] + 0.5 * df['rem_sleep_pct']) / 100\n",
    "    \n",
    "    # Calculate sleep regularity (variation in bedtime)\n",
    "    df['bedtime_shift'] = df['bedtime'].diff().abs()\n",
    "    \n",
    "    # Calculate sleep debt (difference from ideal 8 hours)\n",
    "    df['sleep_debt'] = 8 - df['sleep_duration']\n",
    "    \n",
    "    return df\n",
    "\n",
    "# Transform the data\n",
    "transformed_data = transform_sleep_data(sleep_data)\n",
    "\n",
    "# Perform quality checks\n",
    "def check_data_quality(df):\n",
    "    \"\"\"Perform basic data quality checks.\"\"\"\n",
    "    quality_report = {\n",
    "        'row_count': len(df),\n",
    "        'missing_values': df.isnull().sum().to_dict()\n",
    "    }\n",
    "    \n",
    "    # Create value ranges DataFrame\n",
    "    numeric_cols = df.select_dtypes(include=[np.number]).columns\n",
    "    ranges_data = []\n",
    "    for col in numeric_cols:\n",
    "        ranges_data.append({\n",
    "            'column': col,\n",
    "            'min': df[col].min(),\n",
    "            'max': df[col].max(),\n",
    "            'mean': df[col].mean()\n",
    "        })\n",
    "    quality_report['value_ranges'] = pd.DataFrame(ranges_data)\n",
    "    \n",
    "    return quality_report\n",
    "\n",
    "quality_report = check_data_quality(transformed_data)\n",
    "print(\"\\nData Quality Report:\")\n",
    "print(f\"\\nRow Count: {quality_report['row_count']}\")\n",
    "print(\"\\nMissing Values:\")\n",
    "for col, count in quality_report['missing_values'].items():\n",
    "    if count > 0:\n",
    "        print(f\"{col}: {count}\")\n",
    "print(\"\\nValue Ranges:\")\n",
    "print(quality_report['value_ranges'].round(2))"
   ]
  },
  {
   "cell_type": "markdown",
   "id": "505a347b",
   "metadata": {},
   "source": [
    "## 4. Data Visualization\n",
    "\n",
    "Let's create various visualizations to understand sleep patterns:"
   ]
  },
  {
   "cell_type": "code",
   "execution_count": 4,
   "id": "423411b7",
   "metadata": {},
   "outputs": [
    {
     "data": {
      "image/png": "[encoded data removed]",
      "text/plain": [
       "<Figure size 2000x1500 with 4 Axes>"
      ]
     },
     "metadata": {},
     "output_type": "display_data"
    },
    {
     "data": {
      "application/vnd.plotly.v1+json": {
       "config": {
        "plotlyServerURL": "https://plot.ly"
       },
       "data": [
        {
         "mode": "lines",
         "name": "Sleep Duration",
         "type": "scatter",
         "x": [
          "2025-01-01T00:00:00.000000000",
          "2025-01-02T00:00:00.000000000",
          "2025-01-03T00:00:00.000000000",
          "2025-01-04T00:00:00.000000000",
          "2025-01-05T00:00:00.000000000",
          "2025-01-06T00:00:00.000000000",
          "2025-01-07T00:00:00.000000000",
          "2025-01-08T00:00:00.000000000",
          "2025-01-09T00:00:00.000000000",
          "2025-01-10T00:00:00.000000000",
          "2025-01-11T00:00:00.000000000",
          "2025-01-12T00:00:00.000000000",
          "2025-01-13T00:00:00.000000000",
          "2025-01-14T00:00:00.000000000",
          "2025-01-15T00:00:00.000000000",
          "2025-01-16T00:00:00.000000000",
          "2025-01-17T00:00:00.000000000",
          "2025-01-18T00:00:00.000000000",
          "2025-01-19T00:00:00.000000000",
          "2025-01-20T00:00:00.000000000",
          "2025-01-21T00:00:00.000000000",
          "2025-01-22T00:00:00.000000000",
          "2025-01-23T00:00:00.000000000",
          "2025-01-24T00:00:00.000000000",
          "2025-01-25T00:00:00.000000000",
          "2025-01-26T00:00:00.000000000",
          "2025-01-27T00:00:00.000000000",
          "2025-01-28T00:00:00.000000000",
          "2025-01-29T00:00:00.000000000",
          "2025-01-30T00:00:00.000000000",
          "2025-01-31T00:00:00.000000000",
          "2025-02-01T00:00:00.000000000",
          "2025-02-02T00:00:00.000000000",
          "2025-02-03T00:00:00.000000000",
          "2025-02-04T00:00:00.000000000",
          "2025-02-05T00:00:00.000000000",
          "2025-02-06T00:00:00.000000000",
          "2025-02-07T00:00:00.000000000",
          "2025-02-08T00:00:00.000000000",
          "2025-02-09T00:00:00.000000000",
          "2025-02-10T00:00:00.000000000",
          "2025-02-11T00:00:00.000000000",
          "2025-02-12T00:00:00.000000000",
          "2025-02-13T00:00:00.000000000",
          "2025-02-14T00:00:00.000000000",
          "2025-02-15T00:00:00.000000000",
          "2025-02-16T00:00:00.000000000",
          "2025-02-17T00:00:00.000000000",
          "2025-02-18T00:00:00.000000000",
          "2025-02-19T00:00:00.000000000",
          "2025-02-20T00:00:00.000000000",
          "2025-02-21T00:00:00.000000000",
          "2025-02-22T00:00:00.000000000",
          "2025-02-23T00:00:00.000000000",
          "2025-02-24T00:00:00.000000000",
          "2025-02-25T00:00:00.000000000",
          "2025-02-26T00:00:00.000000000",
          "2025-02-27T00:00:00.000000000",
          "2025-02-28T00:00:00.000000000",
          "2025-03-01T00:00:00.000000000",
          "2025-03-02T00:00:00.000000000",
          "2025-03-03T00:00:00.000000000",
          "2025-03-04T00:00:00.000000000",
          "2025-03-05T00:00:00.000000000",
          "2025-03-06T00:00:00.000000000",
          "2025-03-07T00:00:00.000000000",
          "2025-03-08T00:00:00.000000000",
          "2025-03-09T00:00:00.000000000",
          "2025-03-10T00:00:00.000000000",
          "2025-03-11T00:00:00.000000000",
          "2025-03-12T00:00:00.000000000",
          "2025-03-13T00:00:00.000000000",
          "2025-03-14T00:00:00.000000000",
          "2025-03-15T00:00:00.000000000",
          "2025-03-16T00:00:00.000000000",
          "2025-03-17T00:00:00.000000000",
          "2025-03-18T00:00:00.000000000",
          "2025-03-19T00:00:00.000000000",
          "2025-03-20T00:00:00.000000000",
          "2025-03-21T00:00:00.000000000",
          "2025-03-22T00:00:00.000000000",
          "2025-03-23T00:00:00.000000000",
          "2025-03-24T00:00:00.000000000",
          "2025-03-25T00:00:00.000000000",
          "2025-03-26T00:00:00.000000000",
          "2025-03-27T00:00:00.000000000",
          "2025-03-28T00:00:00.000000000",
          "2025-03-29T00:00:00.000000000",
          "2025-03-30T00:00:00.000000000",
          "2025-03-31T00:00:00.000000000",
          "2025-04-01T00:00:00.000000000",
          "2025-04-02T00:00:00.000000000",
          "2025-04-03T00:00:00.000000000",
          "2025-04-04T00:00:00.000000000",
          "2025-04-05T00:00:00.000000000",
          "2025-04-06T00:00:00.000000000",
          "2025-04-07T00:00:00.000000000",
          "2025-04-08T00:00:00.000000000",
          "2025-04-09T00:00:00.000000000",
          "2025-04-10T00:00:00.000000000",
          "2025-04-11T00:00:00.000000000",
          "2025-04-12T00:00:00.000000000",
          "2025-04-13T00:00:00.000000000",
          "2025-04-14T00:00:00.000000000",
          "2025-04-15T00:00:00.000000000",
          "2025-04-16T00:00:00.000000000",
          "2025-04-17T00:00:00.000000000",
          "2025-04-18T00:00:00.000000000",
          "2025-04-19T00:00:00.000000000",
          "2025-04-20T00:00:00.000000000",
          "2025-04-21T00:00:00.000000000",
          "2025-04-22T00:00:00.000000000",
          "2025-04-23T00:00:00.000000000",
          "2025-04-24T00:00:00.000000000",
          "2025-04-25T00:00:00.000000000",
          "2025-04-26T00:00:00.000000000",
          "2025-04-27T00:00:00.000000000",
          "2025-04-28T00:00:00.000000000",
          "2025-04-29T00:00:00.000000000",
          "2025-04-30T00:00:00.000000000",
          "2025-05-01T00:00:00.000000000",
          "2025-05-02T00:00:00.000000000",
          "2025-05-03T00:00:00.000000000",
          "2025-05-04T00:00:00.000000000",
          "2025-05-05T00:00:00.000000000",
          "2025-05-06T00:00:00.000000000",
          "2025-05-07T00:00:00.000000000",
          "2025-05-08T00:00:00.000000000",
          "2025-05-09T00:00:00.000000000",
          "2025-05-10T00:00:00.000000000",
          "2025-05-11T00:00:00.000000000",
          "2025-05-12T00:00:00.000000000",
          "2025-05-13T00:00:00.000000000",
          "2025-05-14T00:00:00.000000000",
          "2025-05-15T00:00:00.000000000",
          "2025-05-16T00:00:00.000000000",
          "2025-05-17T00:00:00.000000000",
          "2025-05-18T00:00:00.000000000",
          "2025-05-19T00:00:00.000000000",
          "2025-05-20T00:00:00.000000000",
          "2025-05-21T00:00:00.000000000",
          "2025-05-22T00:00:00.000000000",
          "2025-05-23T00:00:00.000000000",
          "2025-05-24T00:00:00.000000000",
          "2025-05-25T00:00:00.000000000",
          "2025-05-26T00:00:00.000000000",
          "2025-05-27T00:00:00.000000000",
          "2025-05-28T00:00:00.000000000",
          "2025-05-29T00:00:00.000000000",
          "2025-05-30T00:00:00.000000000",
          "2025-05-31T00:00:00.000000000",
          "2025-06-01T00:00:00.000000000",
          "2025-06-02T00:00:00.000000000",
          "2025-06-03T00:00:00.000000000",
          "2025-06-04T00:00:00.000000000",
          "2025-06-05T00:00:00.000000000",
          "2025-06-06T00:00:00.000000000",
          "2025-06-07T00:00:00.000000000",
          "2025-06-08T00:00:00.000000000",
          "2025-06-09T00:00:00.000000000",
          "2025-06-10T00:00:00.000000000",
          "2025-06-11T00:00:00.000000000",
          "2025-06-12T00:00:00.000000000",
          "2025-06-13T00:00:00.000000000",
          "2025-06-14T00:00:00.000000000",
          "2025-06-15T00:00:00.000000000",
          "2025-06-16T00:00:00.000000000",
          "2025-06-17T00:00:00.000000000",
          "2025-06-18T00:00:00.000000000",
          "2025-06-19T00:00:00.000000000",
          "2025-06-20T00:00:00.000000000",
          "2025-06-21T00:00:00.000000000",
          "2025-06-22T00:00:00.000000000",
          "2025-06-23T00:00:00.000000000",
          "2025-06-24T00:00:00.000000000",
          "2025-06-25T00:00:00.000000000",
          "2025-06-26T00:00:00.000000000",
          "2025-06-27T00:00:00.000000000",
          "2025-06-28T00:00:00.000000000",
          "2025-06-29T00:00:00.000000000",
          "2025-06-30T00:00:00.000000000",
          "2025-07-01T00:00:00.000000000",
          "2025-07-02T00:00:00.000000000",
          "2025-07-03T00:00:00.000000000",
          "2025-07-04T00:00:00.000000000",
          "2025-07-05T00:00:00.000000000",
          "2025-07-06T00:00:00.000000000",
          "2025-07-07T00:00:00.000000000",
          "2025-07-08T00:00:00.000000000",
          "2025-07-09T00:00:00.000000000",
          "2025-07-10T00:00:00.000000000",
          "2025-07-11T00:00:00.000000000",
          "2025-07-12T00:00:00.000000000",
          "2025-07-13T00:00:00.000000000",
          "2025-07-14T00:00:00.000000000",
          "2025-07-15T00:00:00.000000000",
          "2025-07-16T00:00:00.000000000",
          "2025-07-17T00:00:00.000000000",
          "2025-07-18T00:00:00.000000000",
          "2025-07-19T00:00:00.000000000",
          "2025-07-20T00:00:00.000000000",
          "2025-07-21T00:00:00.000000000",
          "2025-07-22T00:00:00.000000000",
          "2025-07-23T00:00:00.000000000",
          "2025-07-24T00:00:00.000000000",
          "2025-07-25T00:00:00.000000000",
          "2025-07-26T00:00:00.000000000",
          "2025-07-27T00:00:00.000000000",
          "2025-07-28T00:00:00.000000000",
          "2025-07-29T00:00:00.000000000",
          "2025-07-30T00:00:00.000000000",
          "2025-07-31T00:00:00.000000000",
          "2025-08-01T00:00:00.000000000",
          "2025-08-02T00:00:00.000000000",
          "2025-08-03T00:00:00.000000000",
          "2025-08-04T00:00:00.000000000",
          "2025-08-05T00:00:00.000000000",
          "2025-08-06T00:00:00.000000000",
          "2025-08-07T00:00:00.000000000",
          "2025-08-08T00:00:00.000000000",
          "2025-08-09T00:00:00.000000000",
          "2025-08-10T00:00:00.000000000",
          "2025-08-11T00:00:00.000000000",
          "2025-08-12T00:00:00.000000000",
          "2025-08-13T00:00:00.000000000",
          "2025-08-14T00:00:00.000000000",
          "2025-08-15T00:00:00.000000000",
          "2025-08-16T00:00:00.000000000",
          "2025-08-17T00:00:00.000000000",
          "2025-08-18T00:00:00.000000000",
          "2025-08-19T00:00:00.000000000",
          "2025-08-20T00:00:00.000000000",
          "2025-08-21T00:00:00.000000000",
          "2025-08-22T00:00:00.000000000",
          "2025-08-23T00:00:00.000000000",
          "2025-08-24T00:00:00.000000000",
          "2025-08-25T00:00:00.000000000",
          "2025-08-26T00:00:00.000000000",
          "2025-08-27T00:00:00.000000000",
          "2025-08-28T00:00:00.000000000",
          "2025-08-29T00:00:00.000000000",
          "2025-08-30T00:00:00.000000000",
          "2025-08-31T00:00:00.000000000",
          "2025-09-01T00:00:00.000000000",
          "2025-09-02T00:00:00.000000000",
          "2025-09-03T00:00:00.000000000",
          "2025-09-04T00:00:00.000000000",
          "2025-09-05T00:00:00.000000000",
          "2025-09-06T00:00:00.000000000",
          "2025-09-07T00:00:00.000000000",
          "2025-09-08T00:00:00.000000000",
          "2025-09-09T00:00:00.000000000",
          "2025-09-10T00:00:00.000000000",
          "2025-09-11T00:00:00.000000000",
          "2025-09-12T00:00:00.000000000",
          "2025-09-13T00:00:00.000000000",
          "2025-09-14T00:00:00.000000000",
          "2025-09-15T00:00:00.000000000",
          "2025-09-16T00:00:00.000000000",
          "2025-09-17T00:00:00.000000000",
          "2025-09-18T00:00:00.000000000",
          "2025-09-19T00:00:00.000000000",
          "2025-09-20T00:00:00.000000000",
          "2025-09-21T00:00:00.000000000",
          "2025-09-22T00:00:00.000000000",
          "2025-09-23T00:00:00.000000000",
          "2025-09-24T00:00:00.000000000",
          "2025-09-25T00:00:00.000000000",
          "2025-09-26T00:00:00.000000000",
          "2025-09-27T00:00:00.000000000",
          "2025-09-28T00:00:00.000000000",
          "2025-09-29T00:00:00.000000000",
          "2025-09-30T00:00:00.000000000",
          "2025-10-01T00:00:00.000000000",
          "2025-10-02T00:00:00.000000000",
          "2025-10-03T00:00:00.000000000",
          "2025-10-04T00:00:00.000000000",
          "2025-10-05T00:00:00.000000000",
          "2025-10-06T00:00:00.000000000",
          "2025-10-07T00:00:00.000000000",
          "2025-10-08T00:00:00.000000000",
          "2025-10-09T00:00:00.000000000",
          "2025-10-10T00:00:00.000000000",
          "2025-10-11T00:00:00.000000000",
          "2025-10-12T00:00:00.000000000",
          "2025-10-13T00:00:00.000000000",
          "2025-10-14T00:00:00.000000000",
          "2025-10-15T00:00:00.000000000",
          "2025-10-16T00:00:00.000000000",
          "2025-10-17T00:00:00.000000000",
          "2025-10-18T00:00:00.000000000",
          "2025-10-19T00:00:00.000000000",
          "2025-10-20T00:00:00.000000000",
          "2025-10-21T00:00:00.000000000",
          "2025-10-22T00:00:00.000000000",
          "2025-10-23T00:00:00.000000000",
          "2025-10-24T00:00:00.000000000",
          "2025-10-25T00:00:00.000000000",
          "2025-10-26T00:00:00.000000000",
          "2025-10-27T00:00:00.000000000",
          "2025-10-28T00:00:00.000000000",
          "2025-10-29T00:00:00.000000000",
          "2025-10-30T00:00:00.000000000",
          "2025-10-31T00:00:00.000000000",
          "2025-11-01T00:00:00.000000000",
          "2025-11-02T00:00:00.000000000",
          "2025-11-03T00:00:00.000000000",
          "2025-11-04T00:00:00.000000000",
          "2025-11-05T00:00:00.000000000",
          "2025-11-06T00:00:00.000000000",
          "2025-11-07T00:00:00.000000000",
          "2025-11-08T00:00:00.000000000",
          "2025-11-09T00:00:00.000000000",
          "2025-11-10T00:00:00.000000000",
          "2025-11-11T00:00:00.000000000",
          "2025-11-12T00:00:00.000000000",
          "2025-11-13T00:00:00.000000000",
          "2025-11-14T00:00:00.000000000",
          "2025-11-15T00:00:00.000000000",
          "2025-11-16T00:00:00.000000000",
          "2025-11-17T00:00:00.000000000",
          "2025-11-18T00:00:00.000000000",
          "2025-11-19T00:00:00.000000000",
          "2025-11-20T00:00:00.000000000",
          "2025-11-21T00:00:00.000000000",
          "2025-11-22T00:00:00.000000000",
          "2025-11-23T00:00:00.000000000",
          "2025-11-24T00:00:00.000000000",
          "2025-11-25T00:00:00.000000000",
          "2025-11-26T00:00:00.000000000",
          "2025-11-27T00:00:00.000000000",
          "2025-11-28T00:00:00.000000000",
          "2025-11-29T00:00:00.000000000",
          "2025-11-30T00:00:00.000000000",
          "2025-12-01T00:00:00.000000000",
          "2025-12-02T00:00:00.000000000",
          "2025-12-03T00:00:00.000000000",
          "2025-12-04T00:00:00.000000000",
          "2025-12-05T00:00:00.000000000",
          "2025-12-06T00:00:00.000000000",
          "2025-12-07T00:00:00.000000000",
          "2025-12-08T00:00:00.000000000",
          "2025-12-09T00:00:00.000000000",
          "2025-12-10T00:00:00.000000000",
          "2025-12-11T00:00:00.000000000",
          "2025-12-12T00:00:00.000000000",
          "2025-12-13T00:00:00.000000000",
          "2025-12-14T00:00:00.000000000",
          "2025-12-15T00:00:00.000000000",
          "2025-12-16T00:00:00.000000000",
          "2025-12-17T00:00:00.000000000",
          "2025-12-18T00:00:00.000000000",
          "2025-12-19T00:00:00.000000000",
          "2025-12-20T00:00:00.000000000",
          "2025-12-21T00:00:00.000000000",
          "2025-12-22T00:00:00.000000000",
          "2025-12-23T00:00:00.000000000",
          "2025-12-24T00:00:00.000000000",
          "2025-12-25T00:00:00.000000000",
          "2025-12-26T00:00:00.000000000",
          "2025-12-27T00:00:00.000000000",
          "2025-12-28T00:00:00.000000000",
          "2025-12-29T00:00:00.000000000",
          "2025-12-30T00:00:00.000000000",
          "2025-12-31T00:00:00.000000000"
         ],
         "y": {
          "bdata": "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",
          "dtype": "f8"
         }
        },
        {
         "mode": "lines",
         "name": "Quality Score",
         "type": "scatter",
         "x": [
          "2025-01-01T00:00:00.000000000",
          "2025-01-02T00:00:00.000000000",
          "2025-01-03T00:00:00.000000000",
          "2025-01-04T00:00:00.000000000",
          "2025-01-05T00:00:00.000000000",
          "2025-01-06T00:00:00.000000000",
          "2025-01-07T00:00:00.000000000",
          "2025-01-08T00:00:00.000000000",
          "2025-01-09T00:00:00.000000000",
          "2025-01-10T00:00:00.000000000",
          "2025-01-11T00:00:00.000000000",
          "2025-01-12T00:00:00.000000000",
          "2025-01-13T00:00:00.000000000",
          "2025-01-14T00:00:00.000000000",
          "2025-01-15T00:00:00.000000000",
          "2025-01-16T00:00:00.000000000",
          "2025-01-17T00:00:00.000000000",
          "2025-01-18T00:00:00.000000000",
          "2025-01-19T00:00:00.000000000",
          "2025-01-20T00:00:00.000000000",
          "2025-01-21T00:00:00.000000000",
          "2025-01-22T00:00:00.000000000",
          "2025-01-23T00:00:00.000000000",
          "2025-01-24T00:00:00.000000000",
          "2025-01-25T00:00:00.000000000",
          "2025-01-26T00:00:00.000000000",
          "2025-01-27T00:00:00.000000000",
          "2025-01-28T00:00:00.000000000",
          "2025-01-29T00:00:00.000000000",
          "2025-01-30T00:00:00.000000000",
          "2025-01-31T00:00:00.000000000",
          "2025-02-01T00:00:00.000000000",
          "2025-02-02T00:00:00.000000000",
          "2025-02-03T00:00:00.000000000",
          "2025-02-04T00:00:00.000000000",
          "2025-02-05T00:00:00.000000000",
          "2025-02-06T00:00:00.000000000",
          "2025-02-07T00:00:00.000000000",
          "2025-02-08T00:00:00.000000000",
          "2025-02-09T00:00:00.000000000",
          "2025-02-10T00:00:00.000000000",
          "2025-02-11T00:00:00.000000000",
          "2025-02-12T00:00:00.000000000",
          "2025-02-13T00:00:00.000000000",
          "2025-02-14T00:00:00.000000000",
          "2025-02-15T00:00:00.000000000",
          "2025-02-16T00:00:00.000000000",
          "2025-02-17T00:00:00.000000000",
          "2025-02-18T00:00:00.000000000",
          "2025-02-19T00:00:00.000000000",
          "2025-02-20T00:00:00.000000000",
          "2025-02-21T00:00:00.000000000",
          "2025-02-22T00:00:00.000000000",
          "2025-02-23T00:00:00.000000000",
          "2025-02-24T00:00:00.000000000",
          "2025-02-25T00:00:00.000000000",
          "2025-02-26T00:00:00.000000000",
          "2025-02-27T00:00:00.000000000",
          "2025-02-28T00:00:00.000000000",
          "2025-03-01T00:00:00.000000000",
          "2025-03-02T00:00:00.000000000",
          "2025-03-03T00:00:00.000000000",
          "2025-03-04T00:00:00.000000000",
          "2025-03-05T00:00:00.000000000",
          "2025-03-06T00:00:00.000000000",
          "2025-03-07T00:00:00.000000000",
          "2025-03-08T00:00:00.000000000",
          "2025-03-09T00:00:00.000000000",
          "2025-03-10T00:00:00.000000000",
          "2025-03-11T00:00:00.000000000",
          "2025-03-12T00:00:00.000000000",
          "2025-03-13T00:00:00.000000000",
          "2025-03-14T00:00:00.000000000",
          "2025-03-15T00:00:00.000000000",
          "2025-03-16T00:00:00.000000000",
          "2025-03-17T00:00:00.000000000",
          "2025-03-18T00:00:00.000000000",
          "2025-03-19T00:00:00.000000000",
          "2025-03-20T00:00:00.000000000",
          "2025-03-21T00:00:00.000000000",
          "2025-03-22T00:00:00.000000000",
          "2025-03-23T00:00:00.000000000",
          "2025-03-24T00:00:00.000000000",
          "2025-03-25T00:00:00.000000000",
          "2025-03-26T00:00:00.000000000",
          "2025-03-27T00:00:00.000000000",
          "2025-03-28T00:00:00.000000000",
          "2025-03-29T00:00:00.000000000",
          "2025-03-30T00:00:00.000000000",
          "2025-03-31T00:00:00.000000000",
          "2025-04-01T00:00:00.000000000",
          "2025-04-02T00:00:00.000000000",
          "2025-04-03T00:00:00.000000000",
          "2025-04-04T00:00:00.000000000",
          "2025-04-05T00:00:00.000000000",
          "2025-04-06T00:00:00.000000000",
          "2025-04-07T00:00:00.000000000",
          "2025-04-08T00:00:00.000000000",
          "2025-04-09T00:00:00.000000000",
          "2025-04-10T00:00:00.000000000",
          "2025-04-11T00:00:00.000000000",
          "2025-04-12T00:00:00.000000000",
          "2025-04-13T00:00:00.000000000",
          "2025-04-14T00:00:00.000000000",
          "2025-04-15T00:00:00.000000000",
          "2025-04-16T00:00:00.000000000",
          "2025-04-17T00:00:00.000000000",
          "2025-04-18T00:00:00.000000000",
          "2025-04-19T00:00:00.000000000",
          "2025-04-20T00:00:00.000000000",
          "2025-04-21T00:00:00.000000000",
          "2025-04-22T00:00:00.000000000",
          "2025-04-23T00:00:00.000000000",
          "2025-04-24T00:00:00.000000000",
          "2025-04-25T00:00:00.000000000",
          "2025-04-26T00:00:00.000000000",
          "2025-04-27T00:00:00.000000000",
          "2025-04-28T00:00:00.000000000",
          "2025-04-29T00:00:00.000000000",
          "2025-04-30T00:00:00.000000000",
          "2025-05-01T00:00:00.000000000",
          "2025-05-02T00:00:00.000000000",
          "2025-05-03T00:00:00.000000000",
          "2025-05-04T00:00:00.000000000",
          "2025-05-05T00:00:00.000000000",
          "2025-05-06T00:00:00.000000000",
          "2025-05-07T00:00:00.000000000",
          "2025-05-08T00:00:00.000000000",
          "2025-05-09T00:00:00.000000000",
          "2025-05-10T00:00:00.000000000",
          "2025-05-11T00:00:00.000000000",
          "2025-05-12T00:00:00.000000000",
          "2025-05-13T00:00:00.000000000",
          "2025-05-14T00:00:00.000000000",
          "2025-05-15T00:00:00.000000000",
          "2025-05-16T00:00:00.000000000",
          "2025-05-17T00:00:00.000000000",
          "2025-05-18T00:00:00.000000000",
          "2025-05-19T00:00:00.000000000",
          "2025-05-20T00:00:00.000000000",
          "2025-05-21T00:00:00.000000000",
          "2025-05-22T00:00:00.000000000",
          "2025-05-23T00:00:00.000000000",
          "2025-05-24T00:00:00.000000000",
          "2025-05-25T00:00:00.000000000",
          "2025-05-26T00:00:00.000000000",
          "2025-05-27T00:00:00.000000000",
          "2025-05-28T00:00:00.000000000",
          "2025-05-29T00:00:00.000000000",
          "2025-05-30T00:00:00.000000000",
          "2025-05-31T00:00:00.000000000",
          "2025-06-01T00:00:00.000000000",
          "2025-06-02T00:00:00.000000000",
          "2025-06-03T00:00:00.000000000",
          "2025-06-04T00:00:00.000000000",
          "2025-06-05T00:00:00.000000000",
          "2025-06-06T00:00:00.000000000",
          "2025-06-07T00:00:00.000000000",
          "2025-06-08T00:00:00.000000000",
          "2025-06-09T00:00:00.000000000",
          "2025-06-10T00:00:00.000000000",
          "2025-06-11T00:00:00.000000000",
          "2025-06-12T00:00:00.000000000",
          "2025-06-13T00:00:00.000000000",
          "2025-06-14T00:00:00.000000000",
          "2025-06-15T00:00:00.000000000",
          "2025-06-16T00:00:00.000000000",
          "2025-06-17T00:00:00.000000000",
          "2025-06-18T00:00:00.000000000",
          "2025-06-19T00:00:00.000000000",
          "2025-06-20T00:00:00.000000000",
          "2025-06-21T00:00:00.000000000",
          "2025-06-22T00:00:00.000000000",
          "2025-06-23T00:00:00.000000000",
          "2025-06-24T00:00:00.000000000",
          "2025-06-25T00:00:00.000000000",
          "2025-06-26T00:00:00.000000000",
          "2025-06-27T00:00:00.000000000",
          "2025-06-28T00:00:00.000000000",
          "2025-06-29T00:00:00.000000000",
          "2025-06-30T00:00:00.000000000",
          "2025-07-01T00:00:00.000000000",
          "2025-07-02T00:00:00.000000000",
          "2025-07-03T00:00:00.000000000",
          "2025-07-04T00:00:00.000000000",
          "2025-07-05T00:00:00.000000000",
          "2025-07-06T00:00:00.000000000",
          "2025-07-07T00:00:00.000000000",
          "2025-07-08T00:00:00.000000000",
          "2025-07-09T00:00:00.000000000",
          "2025-07-10T00:00:00.000000000",
          "2025-07-11T00:00:00.000000000",
          "2025-07-12T00:00:00.000000000",
          "2025-07-13T00:00:00.000000000",
          "2025-07-14T00:00:00.000000000",
          "2025-07-15T00:00:00.000000000",
          "2025-07-16T00:00:00.000000000",
          "2025-07-17T00:00:00.000000000",
          "2025-07-18T00:00:00.000000000",
          "2025-07-19T00:00:00.000000000",
          "2025-07-20T00:00:00.000000000",
          "2025-07-21T00:00:00.000000000",
          "2025-07-22T00:00:00.000000000",
          "2025-07-23T00:00:00.000000000",
          "2025-07-24T00:00:00.000000000",
          "2025-07-25T00:00:00.000000000",
          "2025-07-26T00:00:00.000000000",
          "2025-07-27T00:00:00.000000000",
          "2025-07-28T00:00:00.000000000",
          "2025-07-29T00:00:00.000000000",
          "2025-07-30T00:00:00.000000000",
          "2025-07-31T00:00:00.000000000",
          "2025-08-01T00:00:00.000000000",
          "2025-08-02T00:00:00.000000000",
          "2025-08-03T00:00:00.000000000",
          "2025-08-04T00:00:00.000000000",
          "2025-08-05T00:00:00.000000000",
          "2025-08-06T00:00:00.000000000",
          "2025-08-07T00:00:00.000000000",
          "2025-08-08T00:00:00.000000000",
          "2025-08-09T00:00:00.000000000",
          "2025-08-10T00:00:00.000000000",
          "2025-08-11T00:00:00.000000000",
          "2025-08-12T00:00:00.000000000",
          "2025-08-13T00:00:00.000000000",
          "2025-08-14T00:00:00.000000000",
          "2025-08-15T00:00:00.000000000",
          "2025-08-16T00:00:00.000000000",
          "2025-08-17T00:00:00.000000000",
          "2025-08-18T00:00:00.000000000",
          "2025-08-19T00:00:00.000000000",
          "2025-08-20T00:00:00.000000000",
          "2025-08-21T00:00:00.000000000",
          "2025-08-22T00:00:00.000000000",
          "2025-08-23T00:00:00.000000000",
          "2025-08-24T00:00:00.000000000",
          "2025-08-25T00:00:00.000000000",
          "2025-08-26T00:00:00.000000000",
          "2025-08-27T00:00:00.000000000",
          "2025-08-28T00:00:00.000000000",
          "2025-08-29T00:00:00.000000000",
          "2025-08-30T00:00:00.000000000",
          "2025-08-31T00:00:00.000000000",
          "2025-09-01T00:00:00.000000000",
          "2025-09-02T00:00:00.000000000",
          "2025-09-03T00:00:00.000000000",
          "2025-09-04T00:00:00.000000000",
          "2025-09-05T00:00:00.000000000",
          "2025-09-06T00:00:00.000000000",
          "2025-09-07T00:00:00.000000000",
          "2025-09-08T00:00:00.000000000",
          "2025-09-09T00:00:00.000000000",
          "2025-09-10T00:00:00.000000000",
          "2025-09-11T00:00:00.000000000",
          "2025-09-12T00:00:00.000000000",
          "2025-09-13T00:00:00.000000000",
          "2025-09-14T00:00:00.000000000",
          "2025-09-15T00:00:00.000000000",
          "2025-09-16T00:00:00.000000000",
          "2025-09-17T00:00:00.000000000",
          "2025-09-18T00:00:00.000000000",
          "2025-09-19T00:00:00.000000000",
          "2025-09-20T00:00:00.000000000",
          "2025-09-21T00:00:00.000000000",
          "2025-09-22T00:00:00.000000000",
          "2025-09-23T00:00:00.000000000",
          "2025-09-24T00:00:00.000000000",
          "2025-09-25T00:00:00.000000000",
          "2025-09-26T00:00:00.000000000",
          "2025-09-27T00:00:00.000000000",
          "2025-09-28T00:00:00.000000000",
          "2025-09-29T00:00:00.000000000",
          "2025-09-30T00:00:00.000000000",
          "2025-10-01T00:00:00.000000000",
          "2025-10-02T00:00:00.000000000",
          "2025-10-03T00:00:00.000000000",
          "2025-10-04T00:00:00.000000000",
          "2025-10-05T00:00:00.000000000",
          "2025-10-06T00:00:00.000000000",
          "2025-10-07T00:00:00.000000000",
          "2025-10-08T00:00:00.000000000",
          "2025-10-09T00:00:00.000000000",
          "2025-10-10T00:00:00.000000000",
          "2025-10-11T00:00:00.000000000",
          "2025-10-12T00:00:00.000000000",
          "2025-10-13T00:00:00.000000000",
          "2025-10-14T00:00:00.000000000",
          "2025-10-15T00:00:00.000000000",
          "2025-10-16T00:00:00.000000000",
          "2025-10-17T00:00:00.000000000",
          "2025-10-18T00:00:00.000000000",
          "2025-10-19T00:00:00.000000000",
          "2025-10-20T00:00:00.000000000",
          "2025-10-21T00:00:00.000000000",
          "2025-10-22T00:00:00.000000000",
          "2025-10-23T00:00:00.000000000",
          "2025-10-24T00:00:00.000000000",
          "2025-10-25T00:00:00.000000000",
          "2025-10-26T00:00:00.000000000",
          "2025-10-27T00:00:00.000000000",
          "2025-10-28T00:00:00.000000000",
          "2025-10-29T00:00:00.000000000",
          "2025-10-30T00:00:00.000000000",
          "2025-10-31T00:00:00.000000000",
          "2025-11-01T00:00:00.000000000",
          "2025-11-02T00:00:00.000000000",
          "2025-11-03T00:00:00.000000000",
          "2025-11-04T00:00:00.000000000",
          "2025-11-05T00:00:00.000000000",
          "2025-11-06T00:00:00.000000000",
          "2025-11-07T00:00:00.000000000",
          "2025-11-08T00:00:00.000000000",
          "2025-11-09T00:00:00.000000000",
          "2025-11-10T00:00:00.000000000",
          "2025-11-11T00:00:00.000000000",
          "2025-11-12T00:00:00.000000000",
          "2025-11-13T00:00:00.000000000",
          "2025-11-14T00:00:00.000000000",
          "2025-11-15T00:00:00.000000000",
          "2025-11-16T00:00:00.000000000",
          "2025-11-17T00:00:00.000000000",
          "2025-11-18T00:00:00.000000000",
          "2025-11-19T00:00:00.000000000",
          "2025-11-20T00:00:00.000000000",
          "2025-11-21T00:00:00.000000000",
          "2025-11-22T00:00:00.000000000",
          "2025-11-23T00:00:00.000000000",
          "2025-11-24T00:00:00.000000000",
          "2025-11-25T00:00:00.000000000",
          "2025-11-26T00:00:00.000000000",
          "2025-11-27T00:00:00.000000000",
          "2025-11-28T00:00:00.000000000",
          "2025-11-29T00:00:00.000000000",
          "2025-11-30T00:00:00.000000000",
          "2025-12-01T00:00:00.000000000",
          "2025-12-02T00:00:00.000000000",
          "2025-12-03T00:00:00.000000000",
          "2025-12-04T00:00:00.000000000",
          "2025-12-05T00:00:00.000000000",
          "2025-12-06T00:00:00.000000000",
          "2025-12-07T00:00:00.000000000",
          "2025-12-08T00:00:00.000000000",
          "2025-12-09T00:00:00.000000000",
          "2025-12-10T00:00:00.000000000",
          "2025-12-11T00:00:00.000000000",
          "2025-12-12T00:00:00.000000000",
          "2025-12-13T00:00:00.000000000",
          "2025-12-14T00:00:00.000000000",
          "2025-12-15T00:00:00.000000000",
          "2025-12-16T00:00:00.000000000",
          "2025-12-17T00:00:00.000000000",
          "2025-12-18T00:00:00.000000000",
          "2025-12-19T00:00:00.000000000",
          "2025-12-20T00:00:00.000000000",
          "2025-12-21T00:00:00.000000000",
          "2025-12-22T00:00:00.000000000",
          "2025-12-23T00:00:00.000000000",
          "2025-12-24T00:00:00.000000000",
          "2025-12-25T00:00:00.000000000",
          "2025-12-26T00:00:00.000000000",
          "2025-12-27T00:00:00.000000000",
          "2025-12-28T00:00:00.000000000",
          "2025-12-29T00:00:00.000000000",
          "2025-12-30T00:00:00.000000000",
          "2025-12-31T00:00:00.000000000"
         ],
         "y": {
          "bdata": "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",
          "dtype": "f8"
         }
        }
       ],
       "layout": {
        "height": 500,
        "template": {
         "data": {
          "bar": [
           {
            "error_x": {
             "color": "#2a3f5f"
            },
            "error_y": {
             "color": "#2a3f5f"
            },
            "marker": {
             "line": {
              "color": "#E5ECF6",
              "width": 0.5
             },
             "pattern": {
              "fillmode": "overlay",
              "size": 10,
              "solidity": 0.2
             }
            },
            "type": "bar"
           }
          ],
          "barpolar": [
           {
            "marker": {
             "line": {
              "color": "#E5ECF6",
              "width": 0.5
             },
             "pattern": {
              "fillmode": "overlay",
              "size": 10,
              "solidity": 0.2
             }
            },
            "type": "barpolar"
           }
          ],
          "carpet": [
           {
            "aaxis": {
             "endlinecolor": "#2a3f5f",
             "gridcolor": "white",
             "linecolor": "white",
             "minorgridcolor": "white",
             "startlinecolor": "#2a3f5f"
            },
            "baxis": {
             "endlinecolor": "#2a3f5f",
             "gridcolor": "white",
             "linecolor": "white",
             "minorgridcolor": "white",
             "startlinecolor": "#2a3f5f"
            },
            "type": "carpet"
           }
          ],
          "choropleth": [
           {
            "colorbar": {
             "outlinewidth": 0,
             "ticks": ""
            },
            "type": "choropleth"
           }
          ],
          "contour": [
           {
            "colorbar": {
             "outlinewidth": 0,
             "ticks": ""
            },
            "colorscale": [
             [
              0,
              "#0d0887"
             ],
             [
              0.1111111111111111,
              "#46039f"
             ],
             [
              0.2222222222222222,
              "#7201a8"
             ],
             [
              0.3333333333333333,
              "#9c179e"
             ],
             [
              0.4444444444444444,
              "#bd3786"
             ],
             [
              0.5555555555555556,
              "#d8576b"
             ],
             [
              0.6666666666666666,
              "#ed7953"
             ],
             [
              0.7777777777777778,
              "#fb9f3a"
             ],
             [
              0.8888888888888888,
              "#fdca26"
             ],
             [
              1,
              "#f0f921"
             ]
            ],
            "type": "contour"
           }
          ],
          "contourcarpet": [
           {
            "colorbar": {
             "outlinewidth": 0,
             "ticks": ""
            },
            "type": "contourcarpet"
           }
          ],
          "heatmap": [
           {
            "colorbar": {
             "outlinewidth": 0,
             "ticks": ""
            },
            "colorscale": [
             [
              0,
              "#0d0887"
             ],
             [
              0.1111111111111111,
              "#46039f"
             ],
             [
              0.2222222222222222,
              "#7201a8"
             ],
             [
              0.3333333333333333,
              "#9c179e"
             ],
             [
              0.4444444444444444,
              "#bd3786"
             ],
             [
              0.5555555555555556,
              "#d8576b"
             ],
             [
              0.6666666666666666,
              "#ed7953"
             ],
             [
              0.7777777777777778,
              "#fb9f3a"
             ],
             [
              0.8888888888888888,
              "#fdca26"
             ],
             [
              1,
              "#f0f921"
             ]
            ],
            "type": "heatmap"
           }
          ],
          "histogram": [
           {
            "marker": {
             "pattern": {
              "fillmode": "overlay",
              "size": 10,
              "solidity": 0.2
             }
            },
            "type": "histogram"
           }
          ],
          "histogram2d": [
           {
            "colorbar": {
             "outlinewidth": 0,
             "ticks": ""
            },
            "colorscale": [
             [
              0,
              "#0d0887"
             ],
             [
              0.1111111111111111,
              "#46039f"
             ],
             [
              0.2222222222222222,
              "#7201a8"
             ],
             [
              0.3333333333333333,
              "#9c179e"
             ],
             [
              0.4444444444444444,
              "#bd3786"
             ],
             [
              0.5555555555555556,
              "#d8576b"
             ],
             [
              0.6666666666666666,
              "#ed7953"
             ],
             [
              0.7777777777777778,
              "#fb9f3a"
             ],
             [
              0.8888888888888888,
              "#fdca26"
             ],
             [
              1,
              "#f0f921"
             ]
            ],
            "type": "histogram2d"
           }
          ],
          "histogram2dcontour": [
           {
            "colorbar": {
             "outlinewidth": 0,
             "ticks": ""
            },
            "colorscale": [
             [
              0,
              "#0d0887"
             ],
             [
              0.1111111111111111,
              "#46039f"
             ],
             [
              0.2222222222222222,
              "#7201a8"
             ],
             [
              0.3333333333333333,
              "#9c179e"
             ],
             [
              0.4444444444444444,
              "#bd3786"
             ],
             [
              0.5555555555555556,
              "#d8576b"
             ],
             [
              0.6666666666666666,
              "#ed7953"
             ],
             [
              0.7777777777777778,
              "#fb9f3a"
             ],
             [
              0.8888888888888888,
              "#fdca26"
             ],
             [
              1,
              "#f0f921"
             ]
            ],
            "type": "histogram2dcontour"
           }
          ],
          "mesh3d": [
           {
            "colorbar": {
             "outlinewidth": 0,
             "ticks": ""
            },
            "type": "mesh3d"
           }
          ],
          "parcoords": [
           {
            "line": {
             "colorbar": {
              "outlinewidth": 0,
              "ticks": ""
             }
            },
            "type": "parcoords"
           }
          ],
          "pie": [
           {
            "automargin": true,
            "type": "pie"
           }
          ],
          "scatter": [
           {
            "fillpattern": {
             "fillmode": "overlay",
             "size": 10,
             "solidity": 0.2
            },
            "type": "scatter"
           }
          ],
          "scatter3d": [
           {
            "line": {
             "colorbar": {
              "outlinewidth": 0,
              "ticks": ""
             }
            },
            "marker": {
             "colorbar": {
              "outlinewidth": 0,
              "ticks": ""
             }
            },
            "type": "scatter3d"
           }
          ],
          "scattercarpet": [
           {
            "marker": {
             "colorbar": {
              "outlinewidth": 0,
              "ticks": ""
             }
            },
            "type": "scattercarpet"
           }
          ],
          "scattergeo": [
           {
            "marker": {
             "colorbar": {
              "outlinewidth": 0,
              "ticks": ""
             }
            },
            "type": "scattergeo"
           }
          ],
          "scattergl": [
           {
            "marker": {
             "colorbar": {
              "outlinewidth": 0,
              "ticks": ""
             }
            },
            "type": "scattergl"
           }
          ],
          "scattermap": [
           {
            "marker": {
             "colorbar": {
              "outlinewidth": 0,
              "ticks": ""
             }
            },
            "type": "scattermap"
           }
          ],
          "scattermapbox": [
           {
            "marker": {
             "colorbar": {
              "outlinewidth": 0,
              "ticks": ""
             }
            },
            "type": "scattermapbox"
           }
          ],
          "scatterpolar": [
           {
            "marker": {
             "colorbar": {
              "outlinewidth": 0,
              "ticks": ""
             }
            },
            "type": "scatterpolar"
           }
          ],
          "scatterpolargl": [
           {
            "marker": {
             "colorbar": {
              "outlinewidth": 0,
              "ticks": ""
             }
            },
            "type": "scatterpolargl"
           }
          ],
          "scatterternary": [
           {
            "marker": {
             "colorbar": {
              "outlinewidth": 0,
              "ticks": ""
             }
            },
            "type": "scatterternary"
           }
          ],
          "surface": [
           {
            "colorbar": {
             "outlinewidth": 0,
             "ticks": ""
            },
            "colorscale": [
             [
              0,
              "#0d0887"
             ],
             [
              0.1111111111111111,
              "#46039f"
             ],
             [
              0.2222222222222222,
              "#7201a8"
             ],
             [
              0.3333333333333333,
              "#9c179e"
             ],
             [
              0.4444444444444444,
              "#bd3786"
             ],
             [
              0.5555555555555556,
              "#d8576b"
             ],
             [
              0.6666666666666666,
              "#ed7953"
             ],
             [
              0.7777777777777778,
              "#fb9f3a"
             ],
             [
              0.8888888888888888,
              "#fdca26"
             ],
             [
              1,
              "#f0f921"
             ]
            ],
            "type": "surface"
           }
          ],
          "table": [
           {
            "cells": {
             "fill": {
              "color": "#EBF0F8"
             },
             "line": {
              "color": "white"
             }
            },
            "header": {
             "fill": {
              "color": "#C8D4E3"
             },
             "line": {
              "color": "white"
             }
            },
            "type": "table"
           }
          ]
         },
         "layout": {
          "annotationdefaults": {
           "arrowcolor": "#2a3f5f",
           "arrowhead": 0,
           "arrowwidth": 1
          },
          "autotypenumbers": "strict",
          "coloraxis": {
           "colorbar": {
            "outlinewidth": 0,
            "ticks": ""
           }
          },
          "colorscale": {
           "diverging": [
            [
             0,
             "#8e0152"
            ],
            [
             0.1,
             "#c51b7d"
            ],
            [
             0.2,
             "#de77ae"
            ],
            [
             0.3,
             "#f1b6da"
            ],
            [
             0.4,
             "#fde0ef"
            ],
            [
             0.5,
             "#f7f7f7"
            ],
            [
             0.6,
             "#e6f5d0"
            ],
            [
             0.7,
             "#b8e186"
            ],
            [
             0.8,
             "#7fbc41"
            ],
            [
             0.9,
             "#4d9221"
            ],
            [
             1,
             "#276419"
            ]
           ],
           "sequential": [
            [
             0,
             "#0d0887"
            ],
            [
             0.1111111111111111,
             "#46039f"
            ],
            [
             0.2222222222222222,
             "#7201a8"
            ],
            [
             0.3333333333333333,
             "#9c179e"
            ],
            [
             0.4444444444444444,
             "#bd3786"
            ],
            [
             0.5555555555555556,
             "#d8576b"
            ],
            [
             0.6666666666666666,
             "#ed7953"
            ],
            [
             0.7777777777777778,
             "#fb9f3a"
            ],
            [
             0.8888888888888888,
             "#fdca26"
            ],
            [
             1,
             "#f0f921"
            ]
           ],
           "sequentialminus": [
            [
             0,
             "#0d0887"
            ],
            [
             0.1111111111111111,
             "#46039f"
            ],
            [
             0.2222222222222222,
             "#7201a8"
            ],
            [
             0.3333333333333333,
             "#9c179e"
            ],
            [
             0.4444444444444444,
             "#bd3786"
            ],
            [
             0.5555555555555556,
             "#d8576b"
            ],
            [
             0.6666666666666666,
             "#ed7953"
            ],
            [
             0.7777777777777778,
             "#fb9f3a"
            ],
            [
             0.8888888888888888,
             "#fdca26"
            ],
            [
             1,
             "#f0f921"
            ]
           ]
          },
          "colorway": [
           "#636efa",
           "#EF553B",
           "#00cc96",
           "#ab63fa",
           "#FFA15A",
           "#19d3f3",
           "#FF6692",
           "#B6E880",
           "#FF97FF",
           "#FECB52"
          ],
          "font": {
           "color": "#2a3f5f"
          },
          "geo": {
           "bgcolor": "white",
           "lakecolor": "white",
           "landcolor": "#E5ECF6",
           "showlakes": true,
           "showland": true,
           "subunitcolor": "white"
          },
          "hoverlabel": {
           "align": "left"
          },
          "hovermode": "closest",
          "mapbox": {
           "style": "light"
          },
          "paper_bgcolor": "white",
          "plot_bgcolor": "#E5ECF6",
          "polar": {
           "angularaxis": {
            "gridcolor": "white",
            "linecolor": "white",
            "ticks": ""
           },
           "bgcolor": "#E5ECF6",
           "radialaxis": {
            "gridcolor": "white",
            "linecolor": "white",
            "ticks": ""
           }
          },
          "scene": {
           "xaxis": {
            "backgroundcolor": "#E5ECF6",
            "gridcolor": "white",
            "gridwidth": 2,
            "linecolor": "white",
            "showbackground": true,
            "ticks": "",
            "zerolinecolor": "white"
           },
           "yaxis": {
            "backgroundcolor": "#E5ECF6",
            "gridcolor": "white",
            "gridwidth": 2,
            "linecolor": "white",
            "showbackground": true,
            "ticks": "",
            "zerolinecolor": "white"
           },
           "zaxis": {
            "backgroundcolor": "#E5ECF6",
            "gridcolor": "white",
            "gridwidth": 2,
            "linecolor": "white",
            "showbackground": true,
            "ticks": "",
            "zerolinecolor": "white"
           }
          },
          "shapedefaults": {
           "line": {
            "color": "#2a3f5f"
           }
          },
          "ternary": {
           "aaxis": {
            "gridcolor": "white",
            "linecolor": "white",
            "ticks": ""
           },
           "baxis": {
            "gridcolor": "white",
            "linecolor": "white",
            "ticks": ""
           },
           "bgcolor": "#E5ECF6",
           "caxis": {
            "gridcolor": "white",
            "linecolor": "white",
            "ticks": ""
           }
          },
          "title": {
           "x": 0.05
          },
          "xaxis": {
           "automargin": true,
           "gridcolor": "white",
           "linecolor": "white",
           "ticks": "",
           "title": {
            "standoff": 15
           },
           "zerolinecolor": "white",
           "zerolinewidth": 2
          },
          "yaxis": {
           "automargin": true,
           "gridcolor": "white",
           "linecolor": "white",
           "ticks": "",
           "title": {
            "standoff": 15
           },
           "zerolinecolor": "white",
           "zerolinewidth": 2
          }
         }
        },
        "title": {
         "text": "Sleep Duration and Quality Over Time"
        },
        "xaxis": {
         "title": {
          "text": "Date"
         }
        },
        "yaxis": {
         "title": {
          "text": "Value"
         }
        }
       }
      }
     },
     "metadata": {},
     "output_type": "display_data"
    }
   ],
   "source": [
    "# Set up the visualization layout\n",
    "plt.figure(figsize=(20, 15))\n",
    "\n",
    "# 1. Sleep Duration Distribution\n",
    "plt.subplot(2, 2, 1)\n",
    "sns.histplot(data=transformed_data, x='sleep_duration', bins=30)\n",
    "plt.title('Distribution of Sleep Duration')\n",
    "plt.xlabel('Hours of Sleep')\n",
    "\n",
    "# 2. Sleep Quality vs Duration\n",
    "plt.subplot(2, 2, 2)\n",
    "sns.scatterplot(data=transformed_data, x='sleep_duration', y='quality_score',\n",
    "                hue='stress_level', size='activity_level', sizes=(20, 200))\n",
    "plt.title('Sleep Quality vs Duration')\n",
    "plt.xlabel('Sleep Duration (hours)')\n",
    "plt.ylabel('Quality Score')\n",
    "\n",
    "# 3. Sleep Stages Distribution\n",
    "plt.subplot(2, 2, 3)\n",
    "stages = transformed_data[['deep_sleep_pct', 'rem_sleep_pct', 'light_sleep_pct']].mean()\n",
    "plt.pie(stages, labels=['Deep Sleep', 'REM Sleep', 'Light Sleep'],\n",
    "        autopct='%1.1f%%', colors=sns.color_palette('pastel'))\n",
    "plt.title('Average Sleep Stages Distribution')\n",
    "\n",
    "# 4. Weekly Sleep Patterns\n",
    "plt.subplot(2, 2, 4)\n",
    "sns.boxplot(data=transformed_data, x='day_name', y='sleep_duration')\n",
    "plt.title('Sleep Duration by Day of Week')\n",
    "plt.xticks(rotation=45)\n",
    "\n",
    "plt.tight_layout()\n",
    "plt.show()\n",
    "\n",
    "# Create interactive time series visualization\n",
    "fig = go.Figure()\n",
    "\n",
    "fig.add_trace(go.Scatter(x=transformed_data['date'], \n",
    "                        y=transformed_data['sleep_duration'],\n",
    "                        mode='lines', name='Sleep Duration'))\n",
    "\n",
    "fig.add_trace(go.Scatter(x=transformed_data['date'], \n",
    "                        y=transformed_data['quality_score'],\n",
    "                        mode='lines', name='Quality Score'))\n",
    "\n",
    "fig.update_layout(title='Sleep Duration and Quality Over Time',\n",
    "                 xaxis_title='Date',\n",
    "                 yaxis_title='Value',\n",
    "                 height=500)\n",
    "\n",
    "fig.show()"
   ]
  },
  {
   "cell_type": "markdown",
   "id": "d9371128",
   "metadata": {},
   "source": [
    "## 5. Machine Learning Insights\n",
    "\n",
    "Let's build a model to predict sleep quality based on various factors:"
   ]
  },
  {
   "cell_type": "code",
   "execution_count": 5,
   "id": "aa97e9cf",
   "metadata": {},
   "outputs": [
    {
     "data": {
      "image/png": "[encoded data removed]",
      "text/plain": [
       "<Figure size 1000x600 with 1 Axes>"
      ]
     },
     "metadata": {},
     "output_type": "display_data"
    },
    {
     "name": "stdout",
     "output_type": "stream",
     "text": [
      "\n",
      "Model Performance:\n",
      "Training R² Score: 0.841\n",
      "Testing R² Score: -0.133\n"
     ]
    }
   ],
   "source": [
    "# Prepare features for modeling\n",
    "feature_cols = ['sleep_duration', 'activity_level', 'stress_level', 'heart_rate',\n",
    "                'deep_sleep_pct', 'rem_sleep_pct', 'light_sleep_pct']\n",
    "target = 'quality_score'\n",
    "\n",
    "X = transformed_data[feature_cols]\n",
    "y = transformed_data[target]\n",
    "\n",
    "# Split the data\n",
    "X_train, X_test, y_train, y_test = train_test_split(X, y, test_size=0.2, random_state=42)\n",
    "\n",
    "# Train a Random Forest model\n",
    "rf_model = RandomForestRegressor(n_estimators=100, random_state=42)\n",
    "rf_model.fit(X_train, y_train)\n",
    "\n",
    "# Get feature importance\n",
    "feature_importance = pd.DataFrame({\n",
    "    'feature': feature_cols,\n",
    "    'importance': rf_model.feature_importances_\n",
    "}).sort_values('importance', ascending=False)\n",
    "\n",
    "# Plot feature importance\n",
    "plt.figure(figsize=(10, 6))\n",
    "sns.barplot(data=feature_importance, x='importance', y='feature')\n",
    "plt.title('Feature Importance for Sleep Quality Prediction')\n",
    "plt.show()\n",
    "\n",
    "# Evaluate the model\n",
    "train_score = rf_model.score(X_train, y_train)\n",
    "test_score = rf_model.score(X_test, y_test)\n",
    "\n",
    "print(f\"\\nModel Performance:\")\n",
    "print(f\"Training R² Score: {train_score:.3f}\")\n",
    "print(f\"Testing R² Score: {test_score:.3f}\")"
   ]
  },
  {
   "cell_type": "markdown",
   "id": "ff7f6e3a",
   "metadata": {},
   "source": [
    "## 6. Conclusions and Next Steps\n",
    "\n",
    "Our analysis has revealed several insights about sleep patterns:\n",
    "1. Distribution of sleep duration and quality\n",
    "2. Impact of stress and activity on sleep\n",
    "3. Weekly sleep patterns\n",
    "4. Most important factors affecting sleep quality\n",
    "\n",
    "Next steps could include:\n",
    "- Collecting real sleep data\n",
    "- Adding more features (e.g., diet, caffeine intake)\n",
    "- Implementing real-time monitoring\n",
    "- Creating automated reports"
   ]
  },
  {
   "cell_type": "markdown",
   "id": "f4f4466b",
   "metadata": {},
   "source": [
    "# Sleep Health Data Engineering Project\n",
    "\n",
    "This notebook demonstrates the complete workflow of our sleep health data engineering project, including:\n",
    "1. Data Generation and Loading\n",
    "2. Data Transformation and Cleaning\n",
    "3. Analysis and Insights\n",
    "4. Visualization and Reporting"
   ]
  },
  {
   "cell_type": "markdown",
   "id": "300d5ffe",
   "metadata": {},
   "source": [
    "## 1. Setup and Imports"
   ]
  },
  {
   "cell_type": "code",
   "execution_count": null,
   "id": "66a8a395",
   "metadata": {},
   "outputs": [],
   "source": [
    "import sys\n",
    "sys.path.append('..')\n",
    "\n",
    "from src.data.data_loader import SleepDataGenerator\n",
    "from src.etl.transformer import SleepDataTransformer\n",
    "from src.analysis.analyzer import SleepAnalyzer\n",
    "from src.visualization.visualizer import SleepDataVisualizer\n",
    "\n",
    "import pandas as pd\n",
    "import numpy as np\n",
    "import matplotlib.pyplot as plt\n",
    "import seaborn as sns\n",
    "import plotly.express as px"
   ]
  },
  {
   "cell_type": "markdown",
   "id": "454c5b97",
   "metadata": {},
   "source": [
    "## 2. Generate Sample Data"
   ]
  },
  {
   "cell_type": "code",
   "execution_count": null,
   "id": "2f4b652c",
   "metadata": {},
   "outputs": [],
   "source": [
    "# Create data generator\n",
    "generator = SleepDataGenerator(n_samples=365)  # One year of data\n",
    "raw_data = generator.generate_data()\n",
    "\n",
    "print(\"Sample of raw data:\")\n",
    "raw_data.head()"
   ]
  },
  {
   "cell_type": "markdown",
   "id": "b6bbc818",
   "metadata": {},
   "source": [
    "## 3. Transform and Clean Data"
   ]
  },
  {
   "cell_type": "code",
   "execution_count": null,
   "id": "e70e41f9",
   "metadata": {},
   "outputs": [],
   "source": [
    "# Transform data\n",
    "transformer = SleepDataTransformer(raw_data)\n",
    "transformed_data = (transformer\n",
    "                   .clean_data()\n",
    "                   .engineer_features()\n",
    "                   .normalize_features()\n",
    "                   .perform_quality_checks()\n",
    "                   .get_transformed_data())\n",
    "\n",
    "print(\"\\nQuality Report:\")\n",
    "print(transformer.get_quality_report())"
   ]
  },
  {
   "cell_type": "markdown",
   "id": "ba5da5be",
   "metadata": {},
   "source": [
    "## 4. Analyze Sleep Patterns"
   ]
  },
  {
   "cell_type": "code",
   "execution_count": null,
   "id": "06a87257",
   "metadata": {},
   "outputs": [],
   "source": [
    "# Create analyzer\n",
    "analyzer = SleepAnalyzer(transformed_data)\n",
    "\n",
    "# Generate comprehensive report\n",
    "analysis_report = analyzer.generate_sleep_report()\n",
    "\n",
    "print(\"Basic Statistics:\")\n",
    "print(pd.DataFrame(analysis_report['basic_stats']))\n",
    "\n",
    "print(\"\\nWeekly Patterns:\")\n",
    "print(pd.DataFrame(analysis_report['weekly_patterns']))"
   ]
  },
  {
   "cell_type": "markdown",
   "id": "4c27100d",
   "metadata": {},
   "source": [
    "## 5. Create Visualizations"
   ]
  },
  {
   "cell_type": "code",
   "execution_count": null,
   "id": "7b51114b",
   "metadata": {},
   "outputs": [],
   "source": [
    "# Create visualizer\n",
    "visualizer = SleepDataVisualizer(transformed_data)\n",
    "\n",
    "# Generate summary dashboard\n",
    "visualizer.generate_summary_dashboard('sleep_summary_dashboard.png')\n",
    "\n",
    "# Create interactive visualizations\n",
    "interactive_dashboard = visualizer.create_interactive_dashboard()\n",
    "\n",
    "# Display interactive plots\n",
    "for name, fig in interactive_dashboard.items():\n",
    "    fig.show()"
   ]
  },
  {
   "cell_type": "markdown",
   "id": "b95f1150",
   "metadata": {},
   "source": [
    "## 6. Key Insights\n",
    "\n",
    "Based on the analysis above, here are the key insights:\n",
    "1. Average sleep duration and quality patterns\n",
    "2. Correlation between sleep metrics\n",
    "3. Weekly sleep patterns\n",
    "4. Impact of activity and stress on sleep\n",
    "5. Sleep stage distribution"
   ]
  },
  {
   "cell_type": "markdown",
   "id": "238a3dfa",
   "metadata": {},
   "source": [
    "# 7. Health Risk Assessment and Life Expectancy Analysis\n",
    "\n",
    "In this section, we'll:\n",
    "1. Add age as a factor in our analysis\n",
    "2. Calculate health risk scores based on sleep patterns\n",
    "3. Predict potential health conditions based on sleep habits and age\n",
    "4. Estimate impact on life expectancy\n",
    "\n",
    "Note: These predictions are for educational purposes only and should not be used as medical advice."
   ]
  },
  {
   "cell_type": "code",
   "execution_count": 6,
   "id": "cf4b7329",
   "metadata": {},
   "outputs": [
    {
     "data": {
      "image/png": "[encoded data removed]",
      "text/plain": [
       "<Figure size 1200x600 with 1 Axes>"
      ]
     },
     "metadata": {},
     "output_type": "display_data"
    },
    {
     "name": "stdout",
     "output_type": "stream",
     "text": [
      "\n",
      "Average Health Risk Scores by Age Group:\n",
      "            mean    std\n",
      "age_group              \n",
      "18-30      48.91  15.95\n",
      "31-45      31.94  15.01\n",
      "46-60      30.14  15.83\n",
      "60+        53.14  17.63\n"
     ]
    }
   ],
   "source": [
    "# Generate age data and calculate health risk scores\n",
    "np.random.seed(42)\n",
    "transformed_data['age'] = np.random.normal(45, 15, len(transformed_data))  # Ages 18-75\n",
    "transformed_data['age'] = np.clip(transformed_data['age'], 18, 75).round()\n",
    "\n",
    "def calculate_health_risk_score(row):\n",
    "    \"\"\"Calculate health risk score based on sleep patterns and age.\"\"\"\n",
    "    risk_score = 0\n",
    "    \n",
    "    # Sleep duration risks\n",
    "    if row['sleep_duration'] < 6:\n",
    "        risk_score += 30\n",
    "    elif row['sleep_duration'] < 7:\n",
    "        risk_score += 15\n",
    "    elif row['sleep_duration'] > 9:\n",
    "        risk_score += 10\n",
    "    \n",
    "    # Sleep quality risks\n",
    "    if row['quality_score'] < 60:\n",
    "        risk_score += 25\n",
    "    elif row['quality_score'] < 75:\n",
    "        risk_score += 15\n",
    "    \n",
    "    # Sleep stage risks\n",
    "    if row['deep_sleep_pct'] < 15:\n",
    "        risk_score += 20\n",
    "    if row['rem_sleep_pct'] < 20:\n",
    "        risk_score += 15\n",
    "    \n",
    "    # Age-related risks\n",
    "    if row['age'] >= 60:\n",
    "        risk_score += 20\n",
    "    elif row['age'] >= 45:\n",
    "        risk_score += 10\n",
    "    \n",
    "    # Stress-related risks\n",
    "    if row['stress_level'] >= 8:\n",
    "        risk_score += 25\n",
    "    elif row['stress_level'] >= 6:\n",
    "        risk_score += 15\n",
    "    \n",
    "    # Heart rate risks\n",
    "    if row['heart_rate'] > 75:\n",
    "        risk_score += 15\n",
    "    elif row['heart_rate'] < 55:\n",
    "        risk_score += 10\n",
    "    \n",
    "    return min(100, risk_score)  # Cap at 100\n",
    "\n",
    "# Calculate health risk scores\n",
    "transformed_data['health_risk_score'] = transformed_data.apply(calculate_health_risk_score, axis=1)\n",
    "\n",
    "# Show distribution of health risk scores by age group\n",
    "transformed_data['age_group'] = pd.cut(transformed_data['age'], \n",
    "                                     bins=[0, 30, 45, 60, 100],\n",
    "                                     labels=['18-30', '31-45', '46-60', '60+'])\n",
    "\n",
    "plt.figure(figsize=(12, 6))\n",
    "sns.boxplot(data=transformed_data, x='age_group', y='health_risk_score')\n",
    "plt.title('Health Risk Scores by Age Group')\n",
    "plt.xlabel('Age Group')\n",
    "plt.ylabel('Health Risk Score')\n",
    "plt.show()\n",
    "\n",
    "# Calculate average risk scores by age group\n",
    "risk_by_age = transformed_data.groupby('age_group')['health_risk_score'].agg(['mean', 'std']).round(2)\n",
    "print(\"\\nAverage Health Risk Scores by Age Group:\")\n",
    "print(risk_by_age)"
   ]
  },
  {
   "cell_type": "code",
   "execution_count": 8,
   "id": "ab79ee98",
   "metadata": {},
   "outputs": [
    {
     "data": {
      "image/png": "[encoded data removed]",
      "text/plain": [
       "<Figure size 1200x600 with 1 Axes>"
      ]
     },
     "metadata": {},
     "output_type": "display_data"
    },
    {
     "data": {
      "image/png": "[encoded data removed]",
      "text/plain": [
       "<Figure size 1200x600 with 1 Axes>"
      ]
     },
     "metadata": {},
     "output_type": "display_data"
    },
    {
     "name": "stdout",
     "output_type": "stream",
     "text": [
      "\n",
      "Average Life Expectancy Impact by Age Group:\n",
      "           mean   std\n",
      "age_group            \n",
      "18-30     -3.97  1.16\n",
      "31-45     -2.03  1.27\n",
      "46-60     -1.26  1.27\n",
      "60+       -2.94  1.89\n",
      "\n",
      "Example Individual Analysis:\n",
      "Age: 52\n",
      "Sleep Duration: 8.2 hours\n",
      "Sleep Quality Score: 69.0\n",
      "Health Risk Score: 45.0\n",
      "Predicted Health Conditions: Cognitive decline risk, Age-related sleep disorder risk\n",
      "Estimated Life Expectancy Impact: -1.2 years\n"
     ]
    }
   ],
   "source": [
    "# Define potential health conditions based on sleep patterns and risk scores\n",
    "def predict_health_conditions(row):\n",
    "    \"\"\"Predict potential health conditions based on sleep patterns, age, and risk score.\"\"\"\n",
    "    conditions = []\n",
    "    \n",
    "    # Cardiovascular risks\n",
    "    if row['sleep_duration'] < 6 and row['heart_rate'] > 70:\n",
    "        conditions.append('Increased cardiovascular risk')\n",
    "    \n",
    "    # Metabolic risks\n",
    "    if row['sleep_duration'] < 6 or row['sleep_duration'] > 9:\n",
    "        conditions.append('Metabolic disorder risk')\n",
    "    \n",
    "    # Cognitive risks\n",
    "    if row['deep_sleep_pct'] < 15 or row['rem_sleep_pct'] < 20:\n",
    "        conditions.append('Cognitive decline risk')\n",
    "    \n",
    "    # Mental health risks\n",
    "    if row['stress_level'] > 7 and row['quality_score'] < 70:\n",
    "        conditions.append('Mental health vulnerability')\n",
    "    \n",
    "    # Age-specific risks\n",
    "    if row['age'] > 50 and row['deep_sleep_pct'] < 18:\n",
    "        conditions.append('Age-related sleep disorder risk')\n",
    "    \n",
    "    return conditions\n",
    "\n",
    "# Calculate life expectancy impact\n",
    "def estimate_life_expectancy_impact(row):\n",
    "    \"\"\"Estimate the potential impact on life expectancy in years.\"\"\"\n",
    "    base_impact = 0\n",
    "    \n",
    "    # Poor sleep duration impact\n",
    "    if row['sleep_duration'] < 6:\n",
    "        base_impact -= 3\n",
    "    elif row['sleep_duration'] < 7:\n",
    "        base_impact -= 1.5\n",
    "    elif row['sleep_duration'] > 9:\n",
    "        base_impact -= 1\n",
    "        \n",
    "    # Poor sleep quality impact\n",
    "    if row['quality_score'] < 60:\n",
    "        base_impact -= 2\n",
    "    elif row['quality_score'] < 75:\n",
    "        base_impact -= 1\n",
    "    \n",
    "    # High stress impact\n",
    "    if row['stress_level'] > 7:\n",
    "        base_impact -= 2\n",
    "    \n",
    "    # Age factor (impact is more significant for older people)\n",
    "    age_factor = 1 + (row['age'] - 30) / 100 if row['age'] > 30 else 1\n",
    "    \n",
    "    return base_impact * age_factor\n",
    "\n",
    "# Add predictions to the dataset\n",
    "transformed_data['predicted_conditions'] = transformed_data.apply(predict_health_conditions, axis=1)\n",
    "transformed_data['life_expectancy_impact'] = transformed_data.apply(estimate_life_expectancy_impact, axis=1)\n",
    "\n",
    "# Analyze condition frequencies\n",
    "all_conditions = [cond for conditions in transformed_data['predicted_conditions'] for cond in conditions]\n",
    "condition_freq = pd.Series(all_conditions).value_counts()\n",
    "\n",
    "plt.figure(figsize=(12, 6))\n",
    "condition_freq.plot(kind='bar')\n",
    "plt.title('Frequency of Predicted Health Conditions')\n",
    "plt.xlabel('Health Condition')\n",
    "plt.ylabel('Frequency')\n",
    "plt.xticks(rotation=45, ha='right')\n",
    "plt.tight_layout()\n",
    "plt.show()\n",
    "\n",
    "# Show impact on life expectancy by age group\n",
    "plt.figure(figsize=(12, 6))\n",
    "sns.boxplot(data=transformed_data, x='age_group', y='life_expectancy_impact')\n",
    "plt.title('Estimated Impact on Life Expectancy by Age Group')\n",
    "plt.xlabel('Age Group')\n",
    "plt.ylabel('Impact on Life Expectancy (Years)')\n",
    "plt.show()\n",
    "\n",
    "# Print summary statistics\n",
    "print(\"\\nAverage Life Expectancy Impact by Age Group:\")\n",
    "impact_by_age = transformed_data.groupby('age_group')['life_expectancy_impact'].agg(['mean', 'std']).round(2)\n",
    "print(impact_by_age)\n",
    "\n",
    "# Print example individual analysis\n",
    "print(\"\\nExample Individual Analysis:\")\n",
    "example = transformed_data.iloc[0]\n",
    "print(f\"Age: {example['age']:.0f}\")\n",
    "print(f\"Sleep Duration: {example['sleep_duration']:.1f} hours\")\n",
    "print(f\"Sleep Quality Score: {example['quality_score']:.1f}\")\n",
    "print(f\"Health Risk Score: {example['health_risk_score']:.1f}\")\n",
    "print(f\"Predicted Health Conditions: {', '.join(example['predicted_conditions'])}\")\n",
    "print(f\"Estimated Life Expectancy Impact: {example['life_expectancy_impact']:.1f} years\")"
   ]
  },
  {
   "cell_type": "code",
   "execution_count": 9,
   "id": "508993f3",
   "metadata": {},
   "outputs": [
    {
     "name": "stdout",
     "output_type": "stream",
     "text": [
      "Example Prediction for a 45-year-old with poor sleep habits:\n",
      "\n",
      "Health Risk Assessment:\n",
      "Risk Score: 100\n",
      "\n",
      "Potential Health Conditions:\n",
      "- Increased cardiovascular risk\n",
      "- Metabolic disorder risk\n",
      "- Cognitive decline risk\n",
      "\n",
      "Estimated Life Expectancy Impact: -4.6 years\n",
      "\n",
      "Recommendations:\n",
      "- Increase sleep duration to at least 7 hours\n",
      "- Improve sleep quality through better sleep hygiene\n",
      "- Implement stress management techniques\n",
      "- Focus on improving deep sleep through exercise and consistent sleep schedule\n",
      "- Improve REM sleep by maintaining regular sleep patterns\n"
     ]
    }
   ],
   "source": [
    "# Create a function to predict health risks for new input\n",
    "def predict_health_risks(age, sleep_duration, sleep_quality, stress_level=5, \n",
    "                       deep_sleep_pct=20, rem_sleep_pct=25, heart_rate=65):\n",
    "    \"\"\"\n",
    "    Predict health risks for given input parameters.\n",
    "    \"\"\"\n",
    "    # Create a sample row with the input data\n",
    "    input_data = pd.DataFrame({\n",
    "        'age': [age],\n",
    "        'sleep_duration': [sleep_duration],\n",
    "        'quality_score': [sleep_quality],\n",
    "        'stress_level': [stress_level],\n",
    "        'deep_sleep_pct': [deep_sleep_pct],\n",
    "        'rem_sleep_pct': [rem_sleep_pct],\n",
    "        'heart_rate': [heart_rate]\n",
    "    })\n",
    "    \n",
    "    # Calculate health risk score\n",
    "    risk_score = calculate_health_risk_score(input_data.iloc[0])\n",
    "    \n",
    "    # Predict conditions\n",
    "    conditions = predict_health_conditions(input_data.iloc[0])\n",
    "    \n",
    "    # Calculate life expectancy impact\n",
    "    life_impact = estimate_life_expectancy_impact(input_data.iloc[0])\n",
    "    \n",
    "    # Generate recommendations\n",
    "    recommendations = []\n",
    "    if sleep_duration < 7:\n",
    "        recommendations.append(\"Increase sleep duration to at least 7 hours\")\n",
    "    if sleep_quality < 75:\n",
    "        recommendations.append(\"Improve sleep quality through better sleep hygiene\")\n",
    "    if stress_level > 6:\n",
    "        recommendations.append(\"Implement stress management techniques\")\n",
    "    if deep_sleep_pct < 15:\n",
    "        recommendations.append(\"Focus on improving deep sleep through exercise and consistent sleep schedule\")\n",
    "    if rem_sleep_pct < 20:\n",
    "        recommendations.append(\"Improve REM sleep by maintaining regular sleep patterns\")\n",
    "    \n",
    "    return {\n",
    "        'health_risk_score': risk_score,\n",
    "        'predicted_conditions': conditions,\n",
    "        'life_expectancy_impact': life_impact,\n",
    "        'recommendations': recommendations\n",
    "    }\n",
    "\n",
    "# Example usage\n",
    "print(\"Example Prediction for a 45-year-old with poor sleep habits:\")\n",
    "prediction = predict_health_risks(\n",
    "    age=45,\n",
    "    sleep_duration=5.5,\n",
    "    sleep_quality=65,\n",
    "    stress_level=7,\n",
    "    deep_sleep_pct=14,\n",
    "    rem_sleep_pct=18,\n",
    "    heart_rate=75\n",
    ")\n",
    "\n",
    "print(\"\\nHealth Risk Assessment:\")\n",
    "print(f\"Risk Score: {prediction['health_risk_score']}\")\n",
    "print(f\"\\nPotential Health Conditions:\")\n",
    "for condition in prediction['predicted_conditions']:\n",
    "    print(f\"- {condition}\")\n",
    "print(f\"\\nEstimated Life Expectancy Impact: {prediction['life_expectancy_impact']:.1f} years\")\n",
    "print(f\"\\nRecommendations:\")\n",
    "for rec in prediction['recommendations']:\n",
    "    print(f\"- {rec}\")"
   ]
  },
  {
   "cell_type": "code",
   "execution_count": 7,
   "id": "3a3e64b9",
   "metadata": {},
   "outputs": [
    {
     "name": "stdout",
     "output_type": "stream",
     "text": [
      "Please enter your health parameters:\n",
      "\n",
      "An error occurred: name 'predict_health_risks' is not defined\n"
     ]
    }
   ],
   "source": [
    "def get_user_input():\n",
    "    \"\"\"Get sleep and health parameters from user input.\"\"\"\n",
    "    try:\n",
    "        print(\"Please enter your health parameters:\")\n",
    "        age = float(input(\"Age (18-100): \"))\n",
    "        if age < 18 or age > 100:\n",
    "            raise ValueError(\"Age must be between 18 and 100\")\n",
    "            \n",
    "        sleep_duration = float(input(\"Average sleep duration (hours per night, 4-12): \"))\n",
    "        if sleep_duration < 4 or sleep_duration > 12:\n",
    "            raise ValueError(\"Sleep duration must be between 4 and 12 hours\")\n",
    "            \n",
    "        sleep_quality = float(input(\"Sleep quality score (0-100): \"))\n",
    "        if sleep_quality < 0 or sleep_quality > 100:\n",
    "            raise ValueError(\"Sleep quality must be between 0 and 100\")\n",
    "            \n",
    "        stress_level = float(input(\"Stress level (0-10): \"))\n",
    "        if stress_level < 0 or stress_level > 10:\n",
    "            raise ValueError(\"Stress level must be between 0 and 10\")\n",
    "            \n",
    "        deep_sleep = float(input(\"Deep sleep percentage (0-40): \"))\n",
    "        if deep_sleep < 0 or deep_sleep > 40:\n",
    "            raise ValueError(\"Deep sleep percentage must be between 0 and 40\")\n",
    "            \n",
    "        rem_sleep = float(input(\"REM sleep percentage (0-40): \"))\n",
    "        if rem_sleep < 0 or rem_sleep > 40:\n",
    "            raise ValueError(\"REM sleep percentage must be between 0 and 40\")\n",
    "            \n",
    "        heart_rate = float(input(\"Average heart rate during sleep (40-100): \"))\n",
    "        if heart_rate < 40 or heart_rate > 100:\n",
    "            raise ValueError(\"Heart rate must be between 40 and 100\")\n",
    "            \n",
    "        # Get predictions using the existing function\n",
    "        prediction = predict_health_risks(\n",
    "            age=age,\n",
    "            sleep_duration=sleep_duration,\n",
    "            sleep_quality=sleep_quality,\n",
    "            stress_level=stress_level,\n",
    "            deep_sleep_pct=deep_sleep,\n",
    "            rem_sleep_pct=rem_sleep,\n",
    "            heart_rate=heart_rate\n",
    "        )\n",
    "        \n",
    "        # Display results\n",
    "        print(\"\\n=== Health Risk Assessment Results ===\")\n",
    "        print(f\"\\nRisk Score: {prediction['health_risk_score']}/100\")\n",
    "        print(f\"{'High Risk' if prediction['health_risk_score'] > 70 else 'Moderate Risk' if prediction['health_risk_score'] > 40 else 'Low Risk'}\")\n",
    "        \n",
    "        print(\"\\nPotential Health Conditions:\")\n",
    "        if prediction['predicted_conditions']:\n",
    "            for condition in prediction['predicted_conditions']:\n",
    "                print(f\"- {condition}\")\n",
    "        else:\n",
    "            print(\"No significant health risks detected\")\n",
    "            \n",
    "        print(f\"\\nEstimated Life Expectancy Impact: {prediction['life_expectancy_impact']:.1f} years\")\n",
    "        \n",
    "        print(\"\\nRecommendations:\")\n",
    "        for rec in prediction['recommendations']:\n",
    "            print(f\"- {rec}\")\n",
    "            \n",
    "    except ValueError as e:\n",
    "        print(f\"\\nError: {str(e)}\")\n",
    "    except Exception as e:\n",
    "        print(f\"\\nAn error occurred: {str(e)}\")\n",
    "\n",
    "# Run the interactive input function\n",
    "get_user_input()"
   ]
  },
  {
   "cell_type": "code",
   "execution_count": 10,
   "id": "27f234ca",
   "metadata": {},
   "outputs": [
    {
     "name": "stdout",
     "output_type": "stream",
     "text": [
      "Data exported to ../data/sleep_health_dashboard.csv\n",
      "\n",
      "Data Schema for Power BI/Tableau:\n",
      "\n",
      "Columns available for visualization:\n",
      "- date (object):\n",
      "  Sample value: 2025-01-01\n",
      "- sleep_duration (float64):\n",
      "  Sample value: 8.24507122951685\n",
      "- quality_score (float64):\n",
      "  Sample value: 68.98169292171245\n",
      "- bedtime (float64):\n",
      "  Sample value: 23.293767882646524\n",
      "- activity_level (float64):\n",
      "  Sample value: 43.385668397828354\n",
      "- stress_level (float64):\n",
      "  Sample value: 4.723088032032452\n",
      "- heart_rate (float64):\n",
      "  Sample value: 67.20970324784705\n",
      "- deep_sleep_pct (float64):\n",
      "  Sample value: 12.009378240581261\n",
      "- rem_sleep_pct (float64):\n",
      "  Sample value: 27.673145430612177\n",
      "- wake_time (float64):\n",
      "  Sample value: 7.538839112163373\n",
      "- light_sleep_pct (float64):\n",
      "  Sample value: 60.31747632880656\n",
      "- day_of_week (int32):\n",
      "  Sample value: 2\n",
      "- day_name (object):\n",
      "  Sample value: Wednesday\n",
      "- sleep_efficiency (float64):\n",
      "  Sample value: 0.2584595095588735\n",
      "- bedtime_shift (float64):\n",
      "  Sample value: nan\n",
      "- sleep_debt (float64):\n",
      "  Sample value: -0.24507122951684934\n",
      "- age (float64):\n",
      "  Sample value: 52.0\n",
      "- health_risk_score (int64):\n",
      "  Sample value: 45\n",
      "- age_group (category):\n",
      "  Sample value: 46-60\n",
      "- predicted_conditions (object):\n",
      "  Sample value: ['Cognitive decline risk', 'Age-related sleep disorder risk']\n",
      "- life_expectancy_impact (float64):\n",
      "  Sample value: -1.22\n",
      "- week_of_year (UInt32):\n",
      "  Sample value: 1\n",
      "- month (int32):\n",
      "  Sample value: 1\n",
      "- month_name (object):\n",
      "  Sample value: January\n",
      "- sleep_stages (object):\n",
      "  Sample value: Deep: 12.0%, REM: 27.7%, Light: 60.3%\n",
      "- risk_category (category):\n",
      "  Sample value: Medium Risk\n"
     ]
    }
   ],
   "source": [
    "# Prepare the data for export\n",
    "export_data = transformed_data.copy()\n",
    "\n",
    "# Format date column properly\n",
    "export_data['date'] = export_data['date'].dt.strftime('%Y-%m-%d')\n",
    "\n",
    "# Add week and month columns for better time analysis\n",
    "export_data['week_of_year'] = pd.to_datetime(export_data['date']).dt.isocalendar().week\n",
    "export_data['month'] = pd.to_datetime(export_data['date']).dt.month\n",
    "export_data['month_name'] = pd.to_datetime(export_data['date']).dt.strftime('%B')\n",
    "\n",
    "# Create a sleep stage summary column for visualization\n",
    "export_data['sleep_stages'] = export_data.apply(\n",
    "    lambda x: f\"Deep: {x['deep_sleep_pct']:.1f}%, REM: {x['rem_sleep_pct']:.1f}%, Light: {x['light_sleep_pct']:.1f}%\",\n",
    "    axis=1\n",
    ")\n",
    "\n",
    "# Add risk categories for better visualization\n",
    "export_data['risk_category'] = pd.cut(\n",
    "    export_data['health_risk_score'],\n",
    "    bins=[0, 30, 60, 100],\n",
    "    labels=['Low Risk', 'Medium Risk', 'High Risk']\n",
    ")\n",
    "\n",
    "# Export to CSV for Power BI/Tableau\n",
    "export_path = '../data/sleep_health_dashboard.csv'\n",
    "export_data.to_csv(export_path, index=False)\n",
    "print(f\"Data exported to {export_path}\")\n",
    "\n",
    "# Print data sample and schema for reference\n",
    "print(\"\\nData Schema for Power BI/Tableau:\")\n",
    "print(\"\\nColumns available for visualization:\")\n",
    "for col in export_data.columns:\n",
    "    dtype = str(export_data[col].dtype)\n",
    "    sample = str(export_data[col].iloc[0])\n",
    "    print(f\"- {col} ({dtype}):\")\n",
    "    print(f\"  Sample value: {sample}\")"
   ]
  }
 ],
 "metadata": {
  "kernelspec": {
   "display_name": "venv",
   "language": "python",
   "name": "python3"
  },
  "language_info": {
   "codemirror_mode": {
    "name": "ipython",
    "version": 3
   },
   "file_extension": ".py",
   "mimetype": "text/x-python",
   "name": "python",
   "nbconvert_exporter": "python",
   "pygments_lexer": "ipython3",
   "version": "3.12.4"
  }
 },
 "nbformat": 4,
 "nbformat_minor": 5
}
